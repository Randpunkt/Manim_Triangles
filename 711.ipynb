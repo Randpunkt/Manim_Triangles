{
 "cells": [
  {
   "cell_type": "code",
   "execution_count": 1,
   "id": "e14c09ad-684a-4f1d-81db-56dafbcff112",
   "metadata": {},
   "outputs": [
    {
     "data": {
      "text/html": [
       "<pre style=\"white-space:pre;overflow-x:auto;line-height:normal;font-family:Menlo,'DejaVu Sans Mono',consolas,'Courier New',monospace\">Manim Community <span style=\"color: #008000; text-decoration-color: #008000\">v0.16.0.post0</span>\n",
       "\n",
       "</pre>\n"
      ],
      "text/plain": [
       "Manim Community \u001b[32mv0.\u001b[0m\u001b[32m16.0\u001b[0m\u001b[32m.post0\u001b[0m\n",
       "\n"
      ]
     },
     "metadata": {},
     "output_type": "display_data"
    }
   ],
   "source": [
    "from manim import *\n",
    "from numpy import *\n",
    "\n",
    "config.media_width = \"75%\"\n",
    "config.verbosity = \"WARNING\""
   ]
  },
  {
   "cell_type": "code",
   "execution_count": 18,
   "id": "09830676-6109-40b6-8d1d-bfa58cce1dd5",
   "metadata": {},
   "outputs": [
    {
     "name": "stderr",
     "output_type": "stream",
     "text": [
      "                                                                                                                           \r"
     ]
    },
    {
     "data": {
      "text/html": [
       "<video src=\"media/jupyter/Triangle@2022-12-06@12-45-48.mp4\" controls autoplay loop style=\"max-width: 75%;\"  >\n",
       "      Your browser does not support the <code>video</code> element.\n",
       "    </video>"
      ],
      "text/plain": [
       "<IPython.core.display.Video object>"
      ]
     },
     "metadata": {},
     "output_type": "display_data"
    }
   ],
   "source": [
    "%%manim -qm Triangle\n",
    "\n",
    "class Triangle(Scene):\n",
    "    def construct(self):\n",
    "        #Seitenlängen des Dreiecks\n",
    "        alpha_grad = 115 #Grad\n",
    "        alpha = alpha_grad*PI / 180\n",
    "        \n",
    "        angabe = Tex(r\"Zeichne den Winkel $\\alpha = $\" + str(alpha_grad) + \"$^\\circ$\")\n",
    "        \n",
    "        angabe.to_corner(UP + RIGHT)\n",
    "        \n",
    "        self.play(Write(angabe))\n",
    "        \n",
    "        A = array([-5,-3.1,0])\n",
    "        B = array([2.5,-3.1,0])\n",
    "        length_a = (B-A)[0]\n",
    "        \n",
    "        pt_size=0.06\n",
    "        pt_A = Dot(point=A, radius=pt_size)\n",
    "        \n",
    "        line_a = Line(A,B)\n",
    "        line_b = line_a.copy().rotate(alpha, about_point=A)\n",
    "        \n",
    "        label_a = Tex(\"a\")              #Beschriftung\n",
    "        label_a.next_to(line_a, DOWN, buff=0.3)\n",
    "        label_b = Tex(\"b\")              #Beschriftung\n",
    "        label_b.move_to(A+length_a*0.5*array([cos(alpha+0.18),sin(alpha+0.18),0]))\n",
    "        \n",
    "        #--------------------------------------------------\n",
    "        # Beschrifrtung Winkel und Winkelbogen\n",
    "        #--------------------------------------------------\n",
    "        radius_arc=1.5         #Radius des Winkelbogens\n",
    "        arc_alpha = Arc(radius=radius_arc,angle=alpha, start_angle=0,arc_center=A,color=GREEN)\n",
    "        label_alpha = Tex(r\"$\\alpha$\",color=GREEN)\n",
    "        position_alpha = A+0.6*radius_arc*(array([cos(alpha/2),sin(alpha/2),0]))\n",
    "        label_alpha.move_to(position_alpha)\n",
    "        \n",
    "        #--------------------------------------------------\n",
    "        # Zirkelabschlag\n",
    "        #--------------------------------------------------\n",
    "        radius_arc2=4.5      #Radius des Zirkelabschlags\n",
    "        arc_a = Arc(radius=radius_arc2,angle=0.4, start_angle=0-0.2,arc_center=A,color=RED)\n",
    "        arc_b = Arc(radius=radius_arc2,angle=0.4, start_angle=alpha-0.2,arc_center=A,color=RED)\n",
    "        \n",
    "        #--------------------------------------------------\n",
    "        # Schnittpunkt Winkelschenkel - Zirkelabschlag\n",
    "        #--------------------------------------------------\n",
    "        C = A+array([radius_arc2,0,0])\n",
    "        pt_C = Dot(point=C,radius = pt_size,color=BLUE)\n",
    "        D = A+radius_arc2*array([cos(alpha),sin(alpha),0])\n",
    "        pt_D = Dot(point=D,radius = pt_size,color=BLUE)\n",
    "        \n",
    "        #--------------------------------------------------\n",
    "        # Zirkelabschlag2\n",
    "        #--------------------------------------------------\n",
    "        arc_c = Arc(radius=radius_arc2,angle=0.4, start_angle=alpha-0.2,arc_center=A+array([radius_arc2,0,0]),color=BLUE)\n",
    "        arc_d = Arc(radius=radius_arc2,angle=0.4, start_angle=0-0.2,arc_center=A+radius_arc2*array([cos(alpha),sin(alpha),0]),color=BLUE)\n",
    "        \n",
    "        #--------------------------------------------------\n",
    "        # Schnittpunkt Zirkelabschlag W und Winkelsymmetrale \n",
    "        #--------------------------------------------------\n",
    "        W=A+array([radius_arc2,0,0])+radius_arc2*array([cos(alpha),sin(alpha),0])\n",
    "        pt_W = Dot(point=W, radius=pt_size)\n",
    "        line_w = Line(A,W+.4*(W-A))\n",
    "        \n",
    "        #--------------------------------------------------\n",
    "        # alles skalieren\n",
    "        #--------------------------------------------------\n",
    "        Winkel = VGroup(pt_A,pt_W,pt_C,pt_D,line_w,line_a,line_b,arc_b,arc_a,arc_c,arc_d,arc_alpha, label_alpha,label_a,label_b)\n",
    "        scale_x = config.frame_width/Winkel.width\n",
    "        scale_y = config.frame_height/Winkel.height\n",
    "        \n",
    "        scale = min([scale_x, scale_y])\n",
    "        \n",
    "        Winkel = Winkel.scale(scale*0.85)\n",
    "        Winkel.move_to([0,0,0])\n",
    "        Winkel.to_edge(DL)\n",
    "        \n",
    "        \n",
    "        self.play(Create(line_a),Create(line_b),Write(label_a),Write(label_b),FadeIn(pt_A))\n",
    "        \n",
    "        \n",
    "        angabe2 = Tex(r\"Nimm eine beliebige Länge \\\\in den Zirkel und trage diese\\\\ vom Scheitel aus auf a und b ab.\")\n",
    "        angabe2.to_corner(UP + RIGHT)\n",
    "        \n",
    "        self.play(Create(arc_alpha),Create(label_alpha)) \n",
    "        self.wait()\n",
    "        self.play(Transform(angabe, angabe2))                    \n",
    "        self.wait()                      \n",
    "        self.play(Create(arc_a))\n",
    "        self.play(Create(arc_b))\n",
    "        \n",
    "        angabe3 = Tex(r\"Stich nun mit dem Zirkel in\\\\ den beiden Schnittpunkten ein\\\\ und trag jeweils die gleiche\\\\ Länge von diesen ab.\")\n",
    "        angabe3.to_corner(UP + RIGHT)\n",
    "            \n",
    "        self.play(Transform(angabe, angabe3))\n",
    "        self.wait()\n",
    "        self.play(FadeIn(pt_C,pt_D))\n",
    "        self.play(Create(arc_c))\n",
    "        self.play(Create(arc_d))\n",
    "        self.play(FadeIn(pt_W))\n",
    "        self.play(Create(line_w))\n",
    "        \n",
    "        self.wait(1.5)"
   ]
  }
 ],
 "metadata": {
  "kernelspec": {
   "display_name": "Python 3 (ipykernel)",
   "language": "python",
   "name": "python3"
  },
  "language_info": {
   "codemirror_mode": {
    "name": "ipython",
    "version": 3
   },
   "file_extension": ".py",
   "mimetype": "text/x-python",
   "name": "python",
   "nbconvert_exporter": "python",
   "pygments_lexer": "ipython3",
   "version": "3.8.13"
  }
 },
 "nbformat": 4,
 "nbformat_minor": 5
}
