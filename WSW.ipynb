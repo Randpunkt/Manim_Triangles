{
 "cells": [
  {
   "cell_type": "code",
   "execution_count": 1,
   "id": "e14c09ad-684a-4f1d-81db-56dafbcff112",
   "metadata": {},
   "outputs": [
    {
     "data": {
      "text/html": [
       "<pre style=\"white-space:pre;overflow-x:auto;line-height:normal;font-family:Menlo,'DejaVu Sans Mono',consolas,'Courier New',monospace\">Manim Community <span style=\"color: #008000; text-decoration-color: #008000\">v0.16.0.post0</span>\n",
       "\n",
       "</pre>\n"
      ],
      "text/plain": [
       "Manim Community \u001b[32mv0.\u001b[0m\u001b[32m16.0\u001b[0m\u001b[32m.post0\u001b[0m\n",
       "\n"
      ]
     },
     "metadata": {},
     "output_type": "display_data"
    }
   ],
   "source": [
    "from manim import *\n",
    "from numpy import *\n",
    "\n",
    "config.media_width = \"75%\"\n",
    "config.verbosity = \"WARNING\""
   ]
  },
  {
   "cell_type": "code",
   "execution_count": 48,
   "id": "09830676-6109-40b6-8d1d-bfa58cce1dd5",
   "metadata": {},
   "outputs": [
    {
     "name": "stderr",
     "output_type": "stream",
     "text": [
      "                                                                          \r"
     ]
    },
    {
     "data": {
      "text/html": [
       "<video src=\"media/jupyter/Triangle@2022-12-01@13-37-46.mp4\" controls autoplay loop style=\"max-width: 75%;\"  >\n",
       "      Your browser does not support the <code>video</code> element.\n",
       "    </video>"
      ],
      "text/plain": [
       "<IPython.core.display.Video object>"
      ]
     },
     "metadata": {},
     "output_type": "display_data"
    }
   ],
   "source": [
    "%%manim -qm Triangle\n",
    "\n",
    "class Triangle(Scene):\n",
    "    def construct(self):\n",
    "        #Seitenlängen des Dreiecks\n",
    "        c = 10\n",
    "        alpha = 30 #Grad\n",
    "        beta = 45  #Grad\n",
    "        \n",
    "        alpha=alpha*pi/180\n",
    "        beta = beta*pi/180\n",
    "        \n",
    "        gamma=pi-alpha-beta\n",
    "        b=c*sin(beta)/sin(gamma)\n",
    "        a=c*sin(alpha)/sin(gamma)\n",
    "        q=b*cos(alpha)\n",
    "        h_c=b*sin(alpha)\n",
    "        \n",
    "        A = array([-c/2,-3.1,0])        #Eckpunkte des Dreiecks\n",
    "        B = array([c/2,-3.1,0])\n",
    "        C = add(A , [q,h_c,0])\n",
    "        C_A = add(C , 0.3*(C-A))\n",
    "        C_B = add(C , 0.3*(C-B))\n",
    "        \n",
    "        pt_size=0.06\n",
    "        pt_A = Dot(point=A, radius=pt_size)        #Eckpunkte mObjects -> Dots\n",
    "        pt_B = Dot(point=B, radius=pt_size)\n",
    "        pt_C = Dot(point=C, radius=pt_size)\n",
    "        line_c = Line(A,B) #Seiten des Dreiecks\n",
    "        line_a = Line(B,C,stroke_width=10)\n",
    "        line_b = Line(C,A,stroke_width=10)\n",
    "        line_c2 = Line(A,B,stroke_width=10)\n",
    "        \n",
    "        Triangle_blue=Polygon(A,B,C,fill_color=BLUE, color=BLUE, stroke_width=10)#,opacity=0.5)#\n",
    "        \n",
    "        line_a_blue = Line(A,C,color=BLUE)\n",
    "        line_b_blue = Line(B,C,color=BLUE)\n",
    "        \n",
    "        angle_alpha = Arc(radius=2,angle=alpha, start_angle=0,arc_center=A,color=RED)\n",
    "        angle_beta = Arc(radius=2,angle=-beta, start_angle=pi,arc_center=B,color=RED)\n",
    "        \n",
    "        line_ca = Line(A,C_A)\n",
    "        line_cb = Line(B,C_B)\n",
    "        \n",
    "        label_A = Text(\"A\")              #Beschriftung\n",
    "        label_A.next_to(pt_A, DOWN, buff=0.3)\n",
    "        label_B = Text(\"B\")\n",
    "        label_B.next_to(pt_B, DOWN, buff=0.3)\n",
    "        label_C = Text(\"C\")\n",
    "        label_C.next_to(pt_C, UP, buff=0.3)\n",
    "        \n",
    "        Dreieck = VGroup(pt_A,pt_B,pt_C,line_a,line_b,line_c,label_A,label_B,label_C,line_ca,line_cb,line_c2,angle_alpha,angle_beta, Triangle_blue)\n",
    "        scale_x = config.frame_width/Dreieck.width\n",
    "        scale_y = config.frame_height/Dreieck.height\n",
    "        \n",
    "        scale = min([scale_x, scale_y])\n",
    "        \n",
    "        Dreieck = Dreieck.scale(scale*0.85)\n",
    "        Dreieck.move_to([0,0,0])\n",
    "        \n",
    "        self.play(Create(line_c))\n",
    "        self.play(FadeIn(pt_A,pt_B))\n",
    "        self.play(Write(label_A),Write(label_B))\n",
    "        self.wait(.5)\n",
    "        self.play(Create(line_ca),Create(angle_alpha))\n",
    "        self.play(Create(line_cb),Create(angle_beta))\n",
    "        self.play(FadeIn(pt_C))\n",
    "        self.play(Write(label_C))\n",
    "        self.wait()\n",
    "        line_a.color=BLUE\n",
    "        line_b.color=BLUE\n",
    "        line_c2.color=BLUE\n",
    "        self.play(Create(Triangle_blue))\n",
    "        #self.play(Create(line_a),Create(line_b),Create(line_c2))\n",
    "        #self.play(Create(line_a_blue),Create(line_b_blue))\n",
    "        self.wait(1.5)"
   ]
  }
 ],
 "metadata": {
  "kernelspec": {
   "display_name": "Python 3 (ipykernel)",
   "language": "python",
   "name": "python3"
  },
  "language_info": {
   "codemirror_mode": {
    "name": "ipython",
    "version": 3
   },
   "file_extension": ".py",
   "mimetype": "text/x-python",
   "name": "python",
   "nbconvert_exporter": "python",
   "pygments_lexer": "ipython3",
   "version": "3.8.13"
  }
 },
 "nbformat": 4,
 "nbformat_minor": 5
}
